{
 "cells": [
  {
   "cell_type": "markdown",
   "id": "b8e18452",
   "metadata": {},
   "source": [
    "<a id=\"overview\"></a>\n",
    "\n",
    "# Overview\n",
    "\n",
    "The motivation and the data used for this project came from the [Titanic - Machine Learning from Disaster](https://www.kaggle.com/c/titanic/overview) competition from Kaggle."
   ]
  },
  {
   "cell_type": "code",
   "execution_count": 15,
   "id": "f3d6348a",
   "metadata": {},
   "outputs": [],
   "source": [
    "import pandas as pd"
   ]
  },
  {
   "cell_type": "code",
   "execution_count": null,
   "id": "6d253fe5",
   "metadata": {},
   "outputs": [],
   "source": [
    "pandas.read_csv(\"./data/train.csv\")"
   ]
  }
 ],
 "metadata": {
  "kernelspec": {
   "display_name": "Python 3",
   "language": "python",
   "name": "python3"
  },
  "language_info": {
   "codemirror_mode": {
    "name": "ipython",
    "version": 3
   },
   "file_extension": ".py",
   "mimetype": "text/x-python",
   "name": "python",
   "nbconvert_exporter": "python",
   "pygments_lexer": "ipython3",
   "version": "3.9.4"
  }
 },
 "nbformat": 4,
 "nbformat_minor": 5
}
